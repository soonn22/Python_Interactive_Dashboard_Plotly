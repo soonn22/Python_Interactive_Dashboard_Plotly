{
 "cells": [
  {
   "cell_type": "code",
   "id": "ae09112a-3c5a-42dc-a126-822c0400cf2b",
   "metadata": {},
   "source": [
    "import pandas as pd\n",
    "from dash import Dash, html, dcc\n",
    "import dash_bootstrap_components as dbc\n",
    "import plotly.express as px\n",
    "import matplotlib.pyplot as plt\n"
   ],
   "outputs": [],
   "execution_count": null
  },
  {
   "cell_type": "code",
   "id": "42a94131316c40c0",
   "metadata": {},
   "source": [
    "soccer_df = pd.read_csv(r\"C:\\Users\\soonn\\Documents\\GitHub\\Python_Interactive_Dashboard_Plotly\\fifa_soccer_players.csv\")\n",
    "soccer_df.head()\n",
    "average_age = soccer_df['age'].mean()\n",
    "average_height = soccer_df['height_cm'].mean()\n",
    "average_weight = soccer_df['weight_kg'].mean()\n",
    "\n"
   ],
   "outputs": [],
   "execution_count": null
  },
  {
   "cell_type": "code",
   "id": "1c168e8864bb3789",
   "metadata": {},
   "source": [
    "navBar = dbc.NavbarSimple(\n",
    "    brand = \"Soccer Players Dashboard\",\n",
    "    children=[\n",
    "        html.Img(src = 'https://uptime.com/media/website_profiles/sofifa.com.png',\n",
    "                 height= 20\n",
    "                 ),\n",
    "\n",
    "        html.A('Data Source',\n",
    "               href = 'https://sofifa.com',\n",
    "               target='_blank',\n",
    "               style={'color':'black'}\n",
    "               )\n",
    "\n",
    "    ],\n",
    "    color= 'primary',\n",
    "    fluid= True\n",
    ")\n",
    "\n"
   ],
   "outputs": [],
   "execution_count": null
  },
  {
   "cell_type": "code",
   "id": "54e3a51afa04e0a8",
   "metadata": {},
   "source": [
    "soccer_df.head()"
   ],
   "outputs": [],
   "execution_count": null
  },
  {
   "cell_type": "code",
   "id": "2e7c559de9dbf7f3",
   "metadata": {},
   "source": [
    "cards = dbc.Row([\n",
    "    dbc.Col(\n",
    "        dbc.Card([\n",
    "            html.H4('Avg. Age'),\n",
    "            html.H5(f'{round(average_age,1)} years')\n",
    "        ],\n",
    "        body = True,\n",
    "        style = {'textAlign': 'center',\n",
    "                 'color': 'white'},\n",
    "        color = 'lightblue')\n",
    "    ),\n",
    "    dbc.Col(\n",
    "        dbc.Card([\n",
    "            html.H4('Avg. Height'),\n",
    "            html.H5(f'{round(average_height,1)} cm')\n",
    "        ],\n",
    "        body = True,\n",
    "        style = {'textAlign': 'center',\n",
    "                 'color': 'white'},\n",
    "        color = 'blue')),\n",
    "    dbc.Col(\n",
    "        dbc.Card([\n",
    "            html.H4('Avg. Weight'),\n",
    "            html.H5(f'{round(average_weight,1)} kg')\n",
    "        ],\n",
    "        body = True,\n",
    "        style = {'textAlign': 'center',\n",
    "                 'color': 'white'},\n",
    "        color = 'darkblue'))\n",
    "]\n",
    "\n",
    ")\n"
   ],
   "outputs": [],
   "execution_count": null
  },
  {
   "cell_type": "code",
   "id": "93d3792596bd2749",
   "metadata": {},
   "source": [
    "graph =                 px.line(soccer_df,x = 'dob', y = 'age')\n",
    "\n"
   ],
   "outputs": [],
   "execution_count": null
  },
  {
   "cell_type": "code",
   "id": "400a70f292e5a57b",
   "metadata": {},
   "source": [
    "app  = Dash(external_stylesheets=[dbc.themes.BOOTSTRAP])\n",
    "app.layout = html.Div([ navBar,html.Br(),cards,html.Br(),dcc.Graph(figure = graph), html.Br(),cards])"
   ],
   "outputs": [],
   "execution_count": null
  },
  {
   "cell_type": "code",
   "id": "be885e2f39cbc20d",
   "metadata": {},
   "source": [
    "if __name__ == '__main__':\n",
    "    app.run(debug=True)"
   ],
   "outputs": [],
   "execution_count": null
  },
  {
   "metadata": {},
   "cell_type": "code",
   "outputs": [],
   "execution_count": null,
   "source": "",
   "id": "3b193d93da13859a"
  },
  {
   "cell_type": "code",
   "id": "51780d177773e7d0",
   "metadata": {},
   "source": [],
   "outputs": [],
   "execution_count": null
  }
 ],
 "metadata": {
  "kernelspec": {
   "display_name": "Python 3 (ipykernel)",
   "language": "python",
   "name": "python3"
  },
  "language_info": {
   "codemirror_mode": {
    "name": "ipython",
    "version": 3
   },
   "file_extension": ".py",
   "mimetype": "text/x-python",
   "name": "python",
   "nbconvert_exporter": "python",
   "pygments_lexer": "ipython3",
   "version": "3.13.3"
  }
 },
 "nbformat": 4,
 "nbformat_minor": 5
}
