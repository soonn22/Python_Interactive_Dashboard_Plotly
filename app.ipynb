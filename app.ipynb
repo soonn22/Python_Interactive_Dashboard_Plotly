{
 "cells": [
  {
   "cell_type": "code",
   "id": "initial_id",
   "metadata": {
    "collapsed": true,
    "ExecuteTime": {
     "end_time": "2025-06-13T01:34:53.814145Z",
     "start_time": "2025-06-13T01:34:52.518285Z"
    }
   },
   "source": [
    "from dash import dcc, Dash, html, Input, Output, State\n",
    "import dash_bootstrap_components as dbc\n",
    "import pandas as pd\n",
    "import plotly.express as px\n",
    "\n",
    "\n"
   ],
   "outputs": [],
   "execution_count": 1
  },
  {
   "metadata": {
    "ExecuteTime": {
     "end_time": "2025-06-13T01:34:54.051510Z",
     "start_time": "2025-06-13T01:34:54.032962Z"
    }
   },
   "cell_type": "code",
   "source": [
    "# load data set\n",
    "df = pd.read_csv(r\"C:\\Users\\soonn\\Documents\\GitHub\\Python_Interactive_Dashboard_Plotly\\life_expectancy.csv\")\n",
    "\n",
    "df.head()"
   ],
   "id": "fd660ced4e7d5fbe",
   "outputs": [
    {
     "data": {
      "text/plain": [
       "       country code  year  life expectancy\n",
       "0  Afghanistan  AFG  1950           27.638\n",
       "1  Afghanistan  AFG  1951           27.878\n",
       "2  Afghanistan  AFG  1952           28.361\n",
       "3  Afghanistan  AFG  1953           28.852\n",
       "4  Afghanistan  AFG  1954           29.350"
      ],
      "text/html": [
       "<div>\n",
       "<style scoped>\n",
       "    .dataframe tbody tr th:only-of-type {\n",
       "        vertical-align: middle;\n",
       "    }\n",
       "\n",
       "    .dataframe tbody tr th {\n",
       "        vertical-align: top;\n",
       "    }\n",
       "\n",
       "    .dataframe thead th {\n",
       "        text-align: right;\n",
       "    }\n",
       "</style>\n",
       "<table border=\"1\" class=\"dataframe\">\n",
       "  <thead>\n",
       "    <tr style=\"text-align: right;\">\n",
       "      <th></th>\n",
       "      <th>country</th>\n",
       "      <th>code</th>\n",
       "      <th>year</th>\n",
       "      <th>life expectancy</th>\n",
       "    </tr>\n",
       "  </thead>\n",
       "  <tbody>\n",
       "    <tr>\n",
       "      <th>0</th>\n",
       "      <td>Afghanistan</td>\n",
       "      <td>AFG</td>\n",
       "      <td>1950</td>\n",
       "      <td>27.638</td>\n",
       "    </tr>\n",
       "    <tr>\n",
       "      <th>1</th>\n",
       "      <td>Afghanistan</td>\n",
       "      <td>AFG</td>\n",
       "      <td>1951</td>\n",
       "      <td>27.878</td>\n",
       "    </tr>\n",
       "    <tr>\n",
       "      <th>2</th>\n",
       "      <td>Afghanistan</td>\n",
       "      <td>AFG</td>\n",
       "      <td>1952</td>\n",
       "      <td>28.361</td>\n",
       "    </tr>\n",
       "    <tr>\n",
       "      <th>3</th>\n",
       "      <td>Afghanistan</td>\n",
       "      <td>AFG</td>\n",
       "      <td>1953</td>\n",
       "      <td>28.852</td>\n",
       "    </tr>\n",
       "    <tr>\n",
       "      <th>4</th>\n",
       "      <td>Afghanistan</td>\n",
       "      <td>AFG</td>\n",
       "      <td>1954</td>\n",
       "      <td>29.350</td>\n",
       "    </tr>\n",
       "  </tbody>\n",
       "</table>\n",
       "</div>"
      ]
     },
     "execution_count": 2,
     "metadata": {},
     "output_type": "execute_result"
    }
   ],
   "execution_count": 2
  },
  {
   "metadata": {
    "ExecuteTime": {
     "end_time": "2025-06-13T01:34:54.099257Z",
     "start_time": "2025-06-13T01:34:54.097062Z"
    }
   },
   "cell_type": "code",
   "source": "",
   "id": "8edbf503f2ae7e15",
   "outputs": [],
   "execution_count": null
  },
  {
   "metadata": {
    "ExecuteTime": {
     "end_time": "2025-06-13T01:34:54.174573Z",
     "start_time": "2025-06-13T01:34:54.172570Z"
    }
   },
   "cell_type": "code",
   "source": "",
   "id": "eee40ad713100374",
   "outputs": [],
   "execution_count": null
  },
  {
   "metadata": {
    "ExecuteTime": {
     "end_time": "2025-06-13T01:34:54.231208Z",
     "start_time": "2025-06-13T01:34:54.222690Z"
    }
   },
   "cell_type": "code",
   "source": [
    "'''\n",
    "selected_countries = ['Suriname', 'Sweden']\n",
    "filtered_df = pd.DataFrame()\n",
    "if selected_countries is None:\n",
    "    print(\"none selected\")\n",
    "else :\n",
    "    for i in range(len(selected_countries)):\n",
    "        selected_country = df[df['country'] == selected_countries[i]]\n",
    "        filtered_df = pd.concat([filtered_df, selected_country], axis = 0)\n",
    "avg_life = filtered_df.groupby('country')['life expectancy'].mean().reset_index()\n",
    "avg_life\n",
    "\n",
    "px.choropleth(avg_life,\n",
    "              locations='country',\n",
    "              locationmode='country names',\n",
    "              color_continuous_scale='reds',\n",
    "              scope='world',\n",
    "              color = 'life expectancy')\n",
    "'''\n",
    "selected_countries = ['Suriname', 'Sweden','Afghanistan']\n",
    "filtered_df = df[df['country'].isin(selected_countries)]\n",
    "avg_life = filtered_df.groupby('country')['life expectancy'].mean().reset_index()\n",
    "avg_life"
   ],
   "id": "240e00c67193fac1",
   "outputs": [
    {
     "data": {
      "text/plain": [
       "       country  life expectancy\n",
       "0  Afghanistan        46.404829\n",
       "1     Suriname        65.229186\n",
       "2       Sweden        77.004557"
      ],
      "text/html": [
       "<div>\n",
       "<style scoped>\n",
       "    .dataframe tbody tr th:only-of-type {\n",
       "        vertical-align: middle;\n",
       "    }\n",
       "\n",
       "    .dataframe tbody tr th {\n",
       "        vertical-align: top;\n",
       "    }\n",
       "\n",
       "    .dataframe thead th {\n",
       "        text-align: right;\n",
       "    }\n",
       "</style>\n",
       "<table border=\"1\" class=\"dataframe\">\n",
       "  <thead>\n",
       "    <tr style=\"text-align: right;\">\n",
       "      <th></th>\n",
       "      <th>country</th>\n",
       "      <th>life expectancy</th>\n",
       "    </tr>\n",
       "  </thead>\n",
       "  <tbody>\n",
       "    <tr>\n",
       "      <th>0</th>\n",
       "      <td>Afghanistan</td>\n",
       "      <td>46.404829</td>\n",
       "    </tr>\n",
       "    <tr>\n",
       "      <th>1</th>\n",
       "      <td>Suriname</td>\n",
       "      <td>65.229186</td>\n",
       "    </tr>\n",
       "    <tr>\n",
       "      <th>2</th>\n",
       "      <td>Sweden</td>\n",
       "      <td>77.004557</td>\n",
       "    </tr>\n",
       "  </tbody>\n",
       "</table>\n",
       "</div>"
      ]
     },
     "execution_count": 3,
     "metadata": {},
     "output_type": "execute_result"
    }
   ],
   "execution_count": 3
  },
  {
   "metadata": {
    "ExecuteTime": {
     "end_time": "2025-06-13T01:34:55.278263Z",
     "start_time": "2025-06-13T01:34:54.272727Z"
    }
   },
   "cell_type": "code",
   "source": [
    "app = Dash(external_stylesheets=[dbc.themes.BOOTSTRAP])\n",
    "navbar = dbc.NavbarSimple(brand = \"LifeExpectancy Dashboard\",\n",
    "                          children = html.A('Data Source', href = 'https://ourworldindata.org/life-expectancy',\n",
    "                                  target= '_blank', style= {'color': 'black'}),\n",
    "\n",
    "                          color = 'primary',\n",
    "                          fluid = True,\n",
    "                          sticky = 'Top'\n",
    "                          )\n",
    "min_year = df['year'].min()\n",
    "max_year = df['year'].max()\n",
    "\n",
    "cards = dbc.Card([\n",
    "            html.H6('Life Expectancy by countries',style={'textAlign':'center'}),\n",
    "\n",
    "            dcc.RangeSlider(\n",
    "                id = 'year-slider',\n",
    "                min = min_year,\n",
    "                max = max_year,\n",
    "                value = [min_year,max_year],\n",
    "                marks = {i:str(i) for i in range(min_year,max_year+1, 10)},\n",
    "                tooltip = {\"placement\":\"bottom\", \"always_visible\":True}\n",
    "\n",
    "            )],\n",
    "            style = {'backgroundColor':'blue'})\n",
    "\n",
    "df.head()\n",
    "app = Dash(external_stylesheets=[dbc.themes.BOOTSTRAP])\n",
    "navbar = dbc.NavbarSimple(brand=\"LifeExpectancy Dashboard\",\n",
    "                          children=html.A('Data Source', href='https://ourworldindata.org/life-expectancy',\n",
    "                                          target='_blank', style={'color': 'black'}),\n",
    "\n",
    "                          color='primary',\n",
    "                          fluid=True,\n",
    "                          sticky='Top'\n",
    "                          )\n",
    "min_year = df['year'].min()\n",
    "max_year = df['year'].max()\n",
    "cards = dbc.Card([\n",
    "            html.H6('Life Expectancy by countries',style={'textAlign':'center'}),\n",
    "\n",
    "            dcc.RangeSlider(\n",
    "                id = 'year-slider',\n",
    "                min = min_year,\n",
    "                max = max_year,\n",
    "                value = [min_year,max_year],\n",
    "                marks = {i:str(i) for i in range(min_year,max_year+1, 10)},\n",
    "                tooltip = {\"placement\":\"bottom\", \"always_visible\":True}\n",
    "\n",
    "            )],\n",
    "            style = {'backgroundColor':'blue'})\n",
    "@app.callback(\n",
    "    Output('life-expectancy-graph', 'figure'),\n",
    "    Input('submit-button', 'n_clicks'),\n",
    "    State('countries-dropdown', 'value'),\n",
    "    State('year-slider', 'value')\n",
    ")\n",
    "def update_graph(button_clicked, selected_countries, selected_year):\n",
    "    if selected_countries is None:\n",
    "        return {}\n",
    "\n",
    "\n",
    "    filtered_df = df[(df['country'].isin(selected_countries)) &\n",
    "                     (df['year'] >= selected_year[0]) &\n",
    "                    (df['year'] <= selected_year[1])\n",
    "    ]\n",
    "\n",
    "\n",
    "    avg_life = filtered_df.groupby('country')['life expectancy'].mean().reset_index()\n",
    "    fig = px.choropleth(\n",
    "            avg_life,\n",
    "            locations='country',\n",
    "            locationmode = 'country names',\n",
    "            color_continuous_scale='reds',\n",
    "            scope='world',\n",
    "            color = 'life expectancy'\n",
    "    )\n",
    "    return fig\n",
    "\n",
    "\n",
    "app.layout = html.Div(\n",
    "    children= [navbar, cards,html.Br(),\n",
    "               dcc.Dropdown(\n",
    "                   id = 'countries-dropdown',\n",
    "                   options = df['country'].unique(),\n",
    "                   multi = True,\n",
    "               ),\n",
    "               html.Br(),\n",
    "               dbc.Button(children = 'Submit',\n",
    "                          id = 'submit-button',\n",
    "                          n_clicks = 0),\n",
    "               html.Br(),\n",
    "               dcc.Graph(id = 'life-expectancy-graph')\n",
    "    ]\n",
    ")\n"
   ],
   "id": "95aafc34770388ce",
   "outputs": [],
   "execution_count": 4
  },
  {
   "metadata": {
    "ExecuteTime": {
     "end_time": "2025-06-13T01:34:55.313888Z",
     "start_time": "2025-06-13T01:34:55.312140Z"
    }
   },
   "cell_type": "code",
   "source": [
    "\n",
    "\n",
    "\n",
    "\n",
    "\n"
   ],
   "id": "b3f9429feda04c22",
   "outputs": [],
   "execution_count": 4
  },
  {
   "metadata": {
    "ExecuteTime": {
     "end_time": "2025-06-13T01:34:55.399850Z",
     "start_time": "2025-06-13T01:34:55.368281Z"
    }
   },
   "cell_type": "code",
   "source": [
    "if __name__ == '__main__':\n",
    "    app.run(debug=True, host='0.0.0.0', port=8080)"
   ],
   "id": "fd7854c08e49ee0a",
   "outputs": [
    {
     "data": {
      "text/plain": [
       "<IPython.lib.display.IFrame at 0x1b01cf6ba10>"
      ],
      "text/html": [
       "\n",
       "        <iframe\n",
       "            width=\"100%\"\n",
       "            height=\"650\"\n",
       "            src=\"http://127.0.0.1:8050/\"\n",
       "            frameborder=\"0\"\n",
       "            allowfullscreen\n",
       "            \n",
       "        ></iframe>\n",
       "        "
      ]
     },
     "metadata": {},
     "output_type": "display_data"
    }
   ],
   "execution_count": 5
  },
  {
   "metadata": {
    "ExecuteTime": {
     "end_time": "2025-06-13T01:34:55.437596Z",
     "start_time": "2025-06-13T01:34:55.435083Z"
    }
   },
   "cell_type": "code",
   "source": "",
   "id": "365d3fd31c323fce",
   "outputs": [],
   "execution_count": null
  }
 ],
 "metadata": {
  "kernelspec": {
   "display_name": "Python 3",
   "language": "python",
   "name": "python3"
  },
  "language_info": {
   "codemirror_mode": {
    "name": "ipython",
    "version": 2
   },
   "file_extension": ".py",
   "mimetype": "text/x-python",
   "name": "python",
   "nbconvert_exporter": "python",
   "pygments_lexer": "ipython2",
   "version": "2.7.6"
  }
 },
 "nbformat": 4,
 "nbformat_minor": 5
}
