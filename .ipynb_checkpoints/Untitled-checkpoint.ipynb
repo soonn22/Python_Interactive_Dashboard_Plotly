{
 "cells": [
  {
   "cell_type": "code",
   "execution_count": 1,
   "id": "22069f58-b21f-4aee-abda-32a531bbd621",
   "metadata": {},
   "outputs": [],
   "source": [
    "from dash import Dash, html"
   ]
  },
  {
   "cell_type": "code",
   "execution_count": 2,
   "id": "f7a64c40-68e4-47d2-b9ea-77e684d5e09b",
   "metadata": {},
   "outputs": [],
   "source": [
    "app = Dash()"
   ]
  },
  {
   "cell_type": "code",
   "execution_count": 4,
   "id": "a4d518f9-f85f-4d6d-9143-493e96fe8a0d",
   "metadata": {},
   "outputs": [],
   "source": [
    "app.layout = html.Div('My Dashboard')"
   ]
  },
  {
   "cell_type": "code",
   "execution_count": 6,
   "id": "5251429f-e1d6-46ab-9a1c-b7451d9d03e6",
   "metadata": {},
   "outputs": [
    {
     "name": "stdout",
     "output_type": "stream",
     "text": [
      "---------------------------------------------------------------------------\n",
      "OSError                                   Traceback (most recent call last)\n",
      "OSError: [WinError 123] The filename, directory name, or volume label syntax is incorrect: '\\\\\\\\?\\\\C:\\\\Users\\\\soonn\\\\AppData\\\\Roaming\\\\jupyterlab-desktop\\\\jlab_server\\\\Lib\\\\site-packages\\\\dash\\\\deps/polyfill@7.12.1.min.js'\n",
      "\n"
     ]
    },
    {
     "data": {
      "text/html": [
       "\n",
       "        <iframe\n",
       "            width=\"100%\"\n",
       "            height=\"650\"\n",
       "            src=\"http://127.0.0.1:8050/\"\n",
       "            frameborder=\"0\"\n",
       "            allowfullscreen\n",
       "            \n",
       "        ></iframe>\n",
       "        "
      ],
      "text/plain": [
       "<IPython.lib.display.IFrame at 0x1f6ca118650>"
      ]
     },
     "metadata": {},
     "output_type": "display_data"
    },
    {
     "name": "stdout",
     "output_type": "stream",
     "text": [
      "---------------------------------------------------------------------------\n",
      "OSError                                   Traceback (most recent call last)\n",
      "OSError: [WinError 123] The filename, directory name, or volume label syntax is incorrect: '\\\\\\\\?\\\\C:\\\\Users\\\\soonn\\\\AppData\\\\Roaming\\\\jupyterlab-desktop\\\\jlab_server\\\\Lib\\\\site-packages\\\\dash\\\\deps/polyfill@7.12.1.min.js'\n",
      "\n",
      "---------------------------------------------------------------------------\n",
      "OSError                                   Traceback (most recent call last)\n",
      "OSError: [WinError 123] The filename, directory name, or volume label syntax is incorrect: '\\\\\\\\?\\\\C:\\\\Users\\\\soonn\\\\AppData\\\\Roaming\\\\jupyterlab-desktop\\\\jlab_server\\\\Lib\\\\site-packages\\\\dash\\\\deps/polyfill@7.12.1.min.js'\n",
      "\n",
      "---------------------------------------------------------------------------\n",
      "OSError                                   Traceback (most recent call last)\n",
      "OSError: [WinError 123] The filename, directory name, or volume label syntax is incorrect: '\\\\\\\\?\\\\C:\\\\Users\\\\soonn\\\\AppData\\\\Roaming\\\\jupyterlab-desktop\\\\jlab_server\\\\Lib\\\\site-packages\\\\dash\\\\deps/polyfill@7.12.1.min.js'\n",
      "\n",
      "---------------------------------------------------------------------------\n",
      "OSError                                   Traceback (most recent call last)\n",
      "OSError: [WinError 123] The filename, directory name, or volume label syntax is incorrect: '\\\\\\\\?\\\\C:\\\\Users\\\\soonn\\\\AppData\\\\Roaming\\\\jupyterlab-desktop\\\\jlab_server\\\\Lib\\\\site-packages\\\\dash\\\\deps/polyfill@7.12.1.min.js'\n",
      "\n",
      "---------------------------------------------------------------------------\n",
      "OSError                                   Traceback (most recent call last)\n",
      "OSError: [WinError 123] The filename, directory name, or volume label syntax is incorrect: '\\\\\\\\?\\\\C:\\\\Users\\\\soonn\\\\AppData\\\\Roaming\\\\jupyterlab-desktop\\\\jlab_server\\\\Lib\\\\site-packages\\\\dash\\\\deps/polyfill@7.12.1.min.js'\n",
      "\n",
      "---------------------------------------------------------------------------\n",
      "OSError                                   Traceback (most recent call last)\n",
      "OSError: [WinError 123] The filename, directory name, or volume label syntax is incorrect: '\\\\\\\\?\\\\C:\\\\Users\\\\soonn\\\\AppData\\\\Roaming\\\\jupyterlab-desktop\\\\jlab_server\\\\Lib\\\\site-packages\\\\dash\\\\deps/polyfill@7.12.1.min.js'\n",
      "\n",
      "---------------------------------------------------------------------------\n",
      "OSError                                   Traceback (most recent call last)\n",
      "OSError: [WinError 123] The filename, directory name, or volume label syntax is incorrect: '\\\\\\\\?\\\\C:\\\\Users\\\\soonn\\\\AppData\\\\Roaming\\\\jupyterlab-desktop\\\\jlab_server\\\\Lib\\\\site-packages\\\\dash\\\\deps/polyfill@7.12.1.min.js'\n",
      "\n",
      "---------------------------------------------------------------------------\n",
      "OSError                                   Traceback (most recent call last)\n",
      "OSError: [WinError 123] The filename, directory name, or volume label syntax is incorrect: '\\\\\\\\?\\\\C:\\\\Users\\\\soonn\\\\AppData\\\\Roaming\\\\jupyterlab-desktop\\\\jlab_server\\\\Lib\\\\site-packages\\\\dash\\\\deps/polyfill@7.12.1.min.js'\n",
      "\n",
      "---------------------------------------------------------------------------\n",
      "OSError                                   Traceback (most recent call last)\n",
      "OSError: [WinError 123] The filename, directory name, or volume label syntax is incorrect: '\\\\\\\\?\\\\C:\\\\Users\\\\soonn\\\\AppData\\\\Roaming\\\\jupyterlab-desktop\\\\jlab_server\\\\Lib\\\\site-packages\\\\dash\\\\deps/polyfill@7.12.1.min.js'\n",
      "\n",
      "---------------------------------------------------------------------------\n",
      "OSError                                   Traceback (most recent call last)\n",
      "OSError: [WinError 123] The filename, directory name, or volume label syntax is incorrect: '\\\\\\\\?\\\\C:\\\\Users\\\\soonn\\\\AppData\\\\Roaming\\\\jupyterlab-desktop\\\\jlab_server\\\\Lib\\\\site-packages\\\\dash\\\\deps/polyfill@7.12.1.min.js'\n",
      "\n",
      "---------------------------------------------------------------------------\n",
      "OSError                                   Traceback (most recent call last)\n",
      "OSError: [WinError 123] The filename, directory name, or volume label syntax is incorrect: '\\\\\\\\?\\\\C:\\\\Users\\\\soonn\\\\AppData\\\\Roaming\\\\jupyterlab-desktop\\\\jlab_server\\\\Lib\\\\site-packages\\\\dash\\\\deps/polyfill@7.12.1.min.js'\n",
      "\n",
      "---------------------------------------------------------------------------\n",
      "OSError                                   Traceback (most recent call last)\n",
      "OSError: [WinError 123] The filename, directory name, or volume label syntax is incorrect: '\\\\\\\\?\\\\C:\\\\Users\\\\soonn\\\\AppData\\\\Roaming\\\\jupyterlab-desktop\\\\jlab_server\\\\Lib\\\\site-packages\\\\dash\\\\deps/polyfill@7.12.1.min.js'\n",
      "\n",
      "---------------------------------------------------------------------------\n",
      "OSError                                   Traceback (most recent call last)\n",
      "OSError: [WinError 123] The filename, directory name, or volume label syntax is incorrect: '\\\\\\\\?\\\\C:\\\\Users\\\\soonn\\\\AppData\\\\Roaming\\\\jupyterlab-desktop\\\\jlab_server\\\\Lib\\\\site-packages\\\\dash\\\\deps/polyfill@7.12.1.min.js'\n",
      "\n",
      "---------------------------------------------------------------------------\n",
      "OSError                                   Traceback (most recent call last)\n",
      "OSError: [WinError 123] The filename, directory name, or volume label syntax is incorrect: '\\\\\\\\?\\\\C:\\\\Users\\\\soonn\\\\AppData\\\\Roaming\\\\jupyterlab-desktop\\\\jlab_server\\\\Lib\\\\site-packages\\\\dash\\\\deps/polyfill@7.12.1.min.js'\n",
      "\n",
      "---------------------------------------------------------------------------\n",
      "OSError                                   Traceback (most recent call last)\n",
      "OSError: [WinError 123] The filename, directory name, or volume label syntax is incorrect: '\\\\\\\\?\\\\C:\\\\Users\\\\soonn\\\\AppData\\\\Roaming\\\\jupyterlab-desktop\\\\jlab_server\\\\Lib\\\\site-packages\\\\dash\\\\deps/polyfill@7.12.1.min.js'\n",
      "\n",
      "---------------------------------------------------------------------------\n",
      "OSError                                   Traceback (most recent call last)\n",
      "OSError: [WinError 123] The filename, directory name, or volume label syntax is incorrect: '\\\\\\\\?\\\\C:\\\\Users\\\\soonn\\\\AppData\\\\Roaming\\\\jupyterlab-desktop\\\\jlab_server\\\\Lib\\\\site-packages\\\\dash\\\\deps/polyfill@7.12.1.min.js'\n",
      "\n",
      "---------------------------------------------------------------------------\n",
      "OSError                                   Traceback (most recent call last)\n",
      "OSError: [WinError 123] The filename, directory name, or volume label syntax is incorrect: '\\\\\\\\?\\\\C:\\\\Users\\\\soonn\\\\AppData\\\\Roaming\\\\jupyterlab-desktop\\\\jlab_server\\\\Lib\\\\site-packages\\\\dash\\\\deps/polyfill@7.12.1.min.js'\n",
      "\n",
      "---------------------------------------------------------------------------\n",
      "OSError                                   Traceback (most recent call last)\n",
      "OSError: [WinError 123] The filename, directory name, or volume label syntax is incorrect: '\\\\\\\\?\\\\C:\\\\Users\\\\soonn\\\\AppData\\\\Roaming\\\\jupyterlab-desktop\\\\jlab_server\\\\Lib\\\\site-packages\\\\dash\\\\deps/polyfill@7.12.1.min.js'\n",
      "\n",
      "---------------------------------------------------------------------------\n",
      "OSError                                   Traceback (most recent call last)\n",
      "OSError: [WinError 123] The filename, directory name, or volume label syntax is incorrect: '\\\\\\\\?\\\\C:\\\\Users\\\\soonn\\\\AppData\\\\Roaming\\\\jupyterlab-desktop\\\\jlab_server\\\\Lib\\\\site-packages\\\\dash\\\\deps/polyfill@7.12.1.min.js'\n",
      "\n",
      "---------------------------------------------------------------------------\n",
      "OSError                                   Traceback (most recent call last)\n",
      "OSError: [WinError 123] The filename, directory name, or volume label syntax is incorrect: '\\\\\\\\?\\\\C:\\\\Users\\\\soonn\\\\AppData\\\\Roaming\\\\jupyterlab-desktop\\\\jlab_server\\\\Lib\\\\site-packages\\\\dash\\\\deps/polyfill@7.12.1.min.js'\n",
      "\n",
      "---------------------------------------------------------------------------\n",
      "OSError                                   Traceback (most recent call last)\n",
      "OSError: [WinError 123] The filename, directory name, or volume label syntax is incorrect: '\\\\\\\\?\\\\C:\\\\Users\\\\soonn\\\\AppData\\\\Roaming\\\\jupyterlab-desktop\\\\jlab_server\\\\Lib\\\\site-packages\\\\dash\\\\deps/polyfill@7.12.1.min.js'\n",
      "\n",
      "---------------------------------------------------------------------------\n",
      "OSError                                   Traceback (most recent call last)\n",
      "OSError: [WinError 123] The filename, directory name, or volume label syntax is incorrect: '\\\\\\\\?\\\\C:\\\\Users\\\\soonn\\\\AppData\\\\Roaming\\\\jupyterlab-desktop\\\\jlab_server\\\\Lib\\\\site-packages\\\\dash\\\\deps/polyfill@7.12.1.min.js'\n",
      "\n",
      "---------------------------------------------------------------------------\n",
      "OSError                                   Traceback (most recent call last)\n",
      "OSError: [WinError 123] The filename, directory name, or volume label syntax is incorrect: '\\\\\\\\?\\\\C:\\\\Users\\\\soonn\\\\AppData\\\\Roaming\\\\jupyterlab-desktop\\\\jlab_server\\\\Lib\\\\site-packages\\\\dash\\\\deps/polyfill@7.12.1.min.js'\n",
      "\n",
      "---------------------------------------------------------------------------\n",
      "OSError                                   Traceback (most recent call last)\n",
      "OSError: [WinError 123] The filename, directory name, or volume label syntax is incorrect: '\\\\\\\\?\\\\C:\\\\Users\\\\soonn\\\\AppData\\\\Roaming\\\\jupyterlab-desktop\\\\jlab_server\\\\Lib\\\\site-packages\\\\dash\\\\deps/polyfill@7.12.1.min.js'\n",
      "\n",
      "---------------------------------------------------------------------------\n",
      "OSError                                   Traceback (most recent call last)\n",
      "OSError: [WinError 123] The filename, directory name, or volume label syntax is incorrect: '\\\\\\\\?\\\\C:\\\\Users\\\\soonn\\\\AppData\\\\Roaming\\\\jupyterlab-desktop\\\\jlab_server\\\\Lib\\\\site-packages\\\\dash\\\\deps/polyfill@7.12.1.min.js'\n",
      "\n",
      "---------------------------------------------------------------------------\n",
      "OSError                                   Traceback (most recent call last)\n",
      "OSError: [WinError 123] The filename, directory name, or volume label syntax is incorrect: '\\\\\\\\?\\\\C:\\\\Users\\\\soonn\\\\AppData\\\\Roaming\\\\jupyterlab-desktop\\\\jlab_server\\\\Lib\\\\site-packages\\\\dash\\\\deps/polyfill@7.12.1.min.js'\n",
      "\n",
      "---------------------------------------------------------------------------\n",
      "OSError                                   Traceback (most recent call last)\n",
      "OSError: [WinError 123] The filename, directory name, or volume label syntax is incorrect: '\\\\\\\\?\\\\C:\\\\Users\\\\soonn\\\\AppData\\\\Roaming\\\\jupyterlab-desktop\\\\jlab_server\\\\Lib\\\\site-packages\\\\dash\\\\deps/polyfill@7.12.1.min.js'\n",
      "\n",
      "---------------------------------------------------------------------------\n",
      "OSError                                   Traceback (most recent call last)\n",
      "OSError: [WinError 123] The filename, directory name, or volume label syntax is incorrect: '\\\\\\\\?\\\\C:\\\\Users\\\\soonn\\\\AppData\\\\Roaming\\\\jupyterlab-desktop\\\\jlab_server\\\\Lib\\\\site-packages\\\\dash\\\\deps/polyfill@7.12.1.min.js'\n",
      "\n",
      "---------------------------------------------------------------------------\n",
      "OSError                                   Traceback (most recent call last)\n",
      "OSError: [WinError 123] The filename, directory name, or volume label syntax is incorrect: '\\\\\\\\?\\\\C:\\\\Users\\\\soonn\\\\AppData\\\\Roaming\\\\jupyterlab-desktop\\\\jlab_server\\\\Lib\\\\site-packages\\\\dash\\\\deps/polyfill@7.12.1.min.js'\n",
      "\n",
      "---------------------------------------------------------------------------\n",
      "OSError                                   Traceback (most recent call last)\n",
      "OSError: [WinError 123] The filename, directory name, or volume label syntax is incorrect: '\\\\\\\\?\\\\C:\\\\Users\\\\soonn\\\\AppData\\\\Roaming\\\\jupyterlab-desktop\\\\jlab_server\\\\Lib\\\\site-packages\\\\dash\\\\deps/polyfill@7.12.1.min.js'\n",
      "\n",
      "---------------------------------------------------------------------------\n",
      "OSError                                   Traceback (most recent call last)\n",
      "OSError: [WinError 123] The filename, directory name, or volume label syntax is incorrect: '\\\\\\\\?\\\\C:\\\\Users\\\\soonn\\\\AppData\\\\Roaming\\\\jupyterlab-desktop\\\\jlab_server\\\\Lib\\\\site-packages\\\\dash\\\\deps/polyfill@7.12.1.min.js'\n",
      "\n",
      "---------------------------------------------------------------------------\n",
      "OSError                                   Traceback (most recent call last)\n",
      "OSError: [WinError 123] The filename, directory name, or volume label syntax is incorrect: '\\\\\\\\?\\\\C:\\\\Users\\\\soonn\\\\AppData\\\\Roaming\\\\jupyterlab-desktop\\\\jlab_server\\\\Lib\\\\site-packages\\\\dash\\\\deps/polyfill@7.12.1.min.js'\n",
      "\n",
      "---------------------------------------------------------------------------\n",
      "OSError                                   Traceback (most recent call last)\n",
      "OSError: [WinError 123] The filename, directory name, or volume label syntax is incorrect: '\\\\\\\\?\\\\C:\\\\Users\\\\soonn\\\\AppData\\\\Roaming\\\\jupyterlab-desktop\\\\jlab_server\\\\Lib\\\\site-packages\\\\dash\\\\deps/polyfill@7.12.1.min.js'\n",
      "\n",
      "---------------------------------------------------------------------------\n",
      "OSError                                   Traceback (most recent call last)\n",
      "OSError: [WinError 123] The filename, directory name, or volume label syntax is incorrect: '\\\\\\\\?\\\\C:\\\\Users\\\\soonn\\\\AppData\\\\Roaming\\\\jupyterlab-desktop\\\\jlab_server\\\\Lib\\\\site-packages\\\\dash\\\\deps/polyfill@7.12.1.min.js'\n",
      "\n"
     ]
    }
   ],
   "source": [
    "if __name__ == '__main__' :\n",
    "    app.run(debug = True)\n"
   ]
  },
  {
   "cell_type": "code",
   "execution_count": null,
   "id": "ae09112a-3c5a-42dc-a126-822c0400cf2b",
   "metadata": {},
   "outputs": [],
   "source": []
  }
 ],
 "metadata": {
  "kernelspec": {
   "display_name": "Python 3 (ipykernel)",
   "language": "python",
   "name": "python3"
  },
  "language_info": {
   "codemirror_mode": {
    "name": "ipython",
    "version": 3
   },
   "file_extension": ".py",
   "mimetype": "text/x-python",
   "name": "python",
   "nbconvert_exporter": "python",
   "pygments_lexer": "ipython3",
   "version": "3.12.5"
  }
 },
 "nbformat": 4,
 "nbformat_minor": 5
}
