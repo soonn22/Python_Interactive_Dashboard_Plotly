{
 "cells": [
  {
   "metadata": {
    "ExecuteTime": {
     "end_time": "2025-06-12T21:52:36.961326Z",
     "start_time": "2025-06-12T21:52:36.957756Z"
    }
   },
   "cell_type": "code",
   "source": [
    "from dash import dcc, html, Dash, dash_table, Input, Output,State\n",
    "import yfinance as yf\n",
    "import plotly.graph_objs as go"
   ],
   "id": "initial_id",
   "outputs": [],
   "execution_count": 12
  },
  {
   "metadata": {
    "ExecuteTime": {
     "end_time": "2025-06-12T21:52:37.273427Z",
     "start_time": "2025-06-12T21:52:36.978315Z"
    }
   },
   "cell_type": "code",
   "source": [
    "ticker = \"APP\"\n",
    "price = yf.Ticker(ticker).history(period='1d', interval='15m').reset_index()\n",
    "\n",
    "app = Dash()\n",
    "app.layout = html.Div([\n",
    "    html.H1('Stock Dashboard'),\n",
    "    dcc.Input(\n",
    "        id='ticker-input',\n",
    "        placeholder='Enter ticker symbol',\n",
    "        style={'width': '50%' }\n",
    "    ),\n",
    "    html.Button('Submit', id='submit-button'),\n",
    "    html.Br(),\n",
    "    html.Br(),\n",
    "    dcc.Tabs([\n",
    "        dcc.Tab(label='Candle Stick Chart',\n",
    "                children = dcc.Graph(id='stock-graph')\n",
    "\n",
    "            ),\n",
    "        dcc.Tab(label='Data',\n",
    "                children=\n",
    "                    [html.Div(id = 'latest-price-div'),\n",
    "                     dash_table.DataTable(id = 'stock-data'\n",
    "\n",
    "                                         )]\n",
    "\n",
    "\n",
    "    ),\n",
    "    dcc.Interval(id = 'chart-interval', interval = 1000 * 60 * 15, n_intervals = 0),\n",
    "    dcc.Interval(id = 'data-interval', interval = 1000 * 60, n_intervals = 0)\n",
    "\n",
    "\n",
    "])])\n",
    "\n",
    "@app.callback(\n",
    "    Output('stock-graph', 'figure'),\n",
    "    Input('submit-button', 'n_clicks'),\n",
    "    Input('chart-interval', 'n_intervals'),\n",
    "    State('ticker-input', 'value')\n",
    ")\n",
    "\n",
    "def update_chart(button_click, chart_interval, ticker):\n",
    "    if ticker is None:\n",
    "        return {}\n",
    "    else :\n",
    "        price = yf.Ticker(ticker).history(period='1d', interval= '15m').reset_index()\n",
    "        if len(price) > 0 :\n",
    "            fig = go.Figure(data = go.Candlestick(\n",
    "                             x = price['Datetime'],\n",
    "                            open = price['Open'],\n",
    "                            high = price['High'],\n",
    "                            low = price['Low'],\n",
    "                            close = price['Close']\n",
    "                            )\n",
    "            )\n",
    "            return fig\n",
    "        else :\n",
    "            return {}\n",
    "\n",
    "\n",
    "@app.callback(\n",
    "    Output('latest-price-div','children'),\n",
    "    Output('stock-data', 'data'),\n",
    "    Input('submit-button', 'n_clicks'),\n",
    "    Input('data-interval', 'n_intervals'),\n",
    "    State('ticker-input', 'value')\n",
    ")\n",
    "\n",
    "def update_table(button_click, data_interval,  ticker):\n",
    "    if ticker is None:\n",
    "        return '',{}\n",
    "    else :\n",
    "        price = yf.Ticker(ticker).history(period='1d', interval= '1m').reset_index().tail(10)\n",
    "        if len(price) > 0 :\n",
    "            latest_price = price['Close'].iloc[-1]\n",
    "            latest_time = price['Datetime'].max().strftime('%b %d, %Y %I:%M:%S %p')\n",
    "            return f'The latest price at {latest_time} is: {latest_price}', price.to_dict('records')\n",
    "        else :\n",
    "            return f'No data for ticker {ticker} on Yahoo Finance', {}\n"
   ],
   "id": "82063ed3a2e8adcb",
   "outputs": [],
   "execution_count": 13
  },
  {
   "metadata": {
    "ExecuteTime": {
     "end_time": "2025-06-12T21:52:37.740805Z",
     "start_time": "2025-06-12T21:52:37.287649Z"
    }
   },
   "cell_type": "code",
   "source": [
    "if __name__ == '__main__':\n",
    "    app.run(debug=True)"
   ],
   "id": "7ea968e684154e3a",
   "outputs": [
    {
     "data": {
      "text/plain": [
       "<IPython.lib.display.IFrame at 0x264d7dc0b90>"
      ],
      "text/html": [
       "\n",
       "        <iframe\n",
       "            width=\"100%\"\n",
       "            height=\"650\"\n",
       "            src=\"http://127.0.0.1:8050/\"\n",
       "            frameborder=\"0\"\n",
       "            allowfullscreen\n",
       "            \n",
       "        ></iframe>\n",
       "        "
      ]
     },
     "metadata": {},
     "output_type": "display_data"
    }
   ],
   "execution_count": 14
  },
  {
   "metadata": {
    "ExecuteTime": {
     "end_time": "2025-06-12T21:52:37.763921Z",
     "start_time": "2025-06-12T21:52:37.761835Z"
    }
   },
   "cell_type": "code",
   "source": "",
   "id": "97a50aac8271886a",
   "outputs": [],
   "execution_count": null
  }
 ],
 "metadata": {
  "kernelspec": {
   "display_name": "Python 3",
   "language": "python",
   "name": "python3"
  },
  "language_info": {
   "codemirror_mode": {
    "name": "ipython",
    "version": 2
   },
   "file_extension": ".py",
   "mimetype": "text/x-python",
   "name": "python",
   "nbconvert_exporter": "python",
   "pygments_lexer": "ipython2",
   "version": "2.7.6"
  }
 },
 "nbformat": 4,
 "nbformat_minor": 5
}
