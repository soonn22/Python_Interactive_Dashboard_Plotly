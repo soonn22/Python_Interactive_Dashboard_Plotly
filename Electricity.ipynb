{
 "cells": [
  {
   "cell_type": "code",
   "id": "initial_id",
   "metadata": {
    "collapsed": true,
    "ExecuteTime": {
     "end_time": "2025-06-12T19:44:00.806391Z",
     "start_time": "2025-06-12T19:43:59.022796Z"
    }
   },
   "source": [
    "import pandas as pd\n",
    "from dash import Dash, html, dcc,dash_table, Input, Output\n",
    "import plotly.express as px\n",
    "import dash_bootstrap_components as dbc\n",
    "\n"
   ],
   "outputs": [],
   "execution_count": 1
  },
  {
   "metadata": {
    "ExecuteTime": {
     "end_time": "2025-06-12T19:44:01.763292Z",
     "start_time": "2025-06-12T19:44:00.818178Z"
    }
   },
   "cell_type": "code",
   "source": [
    "electricity = pd.read_csv('electricity.csv')\n",
    "app = Dash(external_stylesheets=[dbc.themes.SOLAR])\n",
    "year_min = electricity['Year'].min()\n",
    "year_max = electricity['Year'].max()\n",
    "\n"
   ],
   "id": "8cf403df8571daf2",
   "outputs": [],
   "execution_count": 2
  },
  {
   "metadata": {
    "ExecuteTime": {
     "end_time": "2025-06-12T19:44:02.051170Z",
     "start_time": "2025-06-12T19:44:02.024386Z"
    }
   },
   "cell_type": "code",
   "source": [
    "\n",
    "\n",
    "\n",
    "app.layout =  html.Div([\n",
    "    html.H1(\"Electricity Prices by US State\"),\n",
    "    dcc.RangeSlider(id = 'year-slider',\n",
    "                    min = year_min,\n",
    "                    max = year_max,\n",
    "                    value = [year_min,year_max],\n",
    "                    marks= {i:str(i) for i in range(year_min,year_max+1)}\n",
    "                    ),\n",
    "    dcc.Graph(id = 'map-fig'),\n",
    "    dash_table.DataTable(id = 'data-table'               )\n",
    "\n",
    "\n",
    "\n",
    "    ]\n",
    ")\n",
    "\n",
    "@app.callback(\n",
    "        Output('map-fig', 'figure'),\n",
    "        Input('year-slider', 'value')\n",
    ")\n",
    "def map_update(selected_year):\n",
    "    filtered_df = electricity[\n",
    "        (electricity['Year'] >= selected_year[0]) &\n",
    "        (electricity['Year'] <= selected_year[1])\n",
    "    ]\n",
    "    avg_price_electricity = filtered_df.groupby('US_State')['Residential Price'].mean().reset_index()\n",
    "\n",
    "    map_fig = px.choropleth(avg_price_electricity,\n",
    "                            locations='US_State',\n",
    "                            locationmode='USA-states',\n",
    "                            scope='usa',\n",
    "                            color='Residential Price',\n",
    "                            color_continuous_scale='reds')\n",
    "    return map_fig\n",
    "\n",
    "@app.callback(\n",
    "    Output('data-table', 'data'),\n",
    "    Input('map-fig', 'clickData'),\n",
    "    Input('year-slider', 'value')\n",
    ")\n",
    "\n",
    "def update_table(clicked_data, selected_year):\n",
    "    if clicked_data is None:\n",
    "        return []\n",
    "    us_state = clicked_data['points'][0]['location']\n",
    "    filtered_df = electricity[\n",
    "        (electricity['Year'] >= selected_year[0]) &\n",
    "        (electricity['Year'] <= selected_year[1])&\n",
    "        (electricity['US_State'] == us_state)]\n",
    "    return filtered_df.to_dict('records')\n",
    "\n",
    "\n",
    "if __name__ == '__main__':\n",
    "    app.run(debug=True)\n"
   ],
   "id": "64ed96f1304c9f7f",
   "outputs": [
    {
     "data": {
      "text/plain": [
       "<IPython.lib.display.IFrame at 0x161b5af3b60>"
      ],
      "text/html": [
       "\n",
       "        <iframe\n",
       "            width=\"100%\"\n",
       "            height=\"650\"\n",
       "            src=\"http://127.0.0.1:8050/\"\n",
       "            frameborder=\"0\"\n",
       "            allowfullscreen\n",
       "            \n",
       "        ></iframe>\n",
       "        "
      ]
     },
     "metadata": {},
     "output_type": "display_data"
    }
   ],
   "execution_count": 3
  },
  {
   "metadata": {
    "ExecuteTime": {
     "end_time": "2025-06-12T19:44:02.189397Z",
     "start_time": "2025-06-12T19:44:02.187694Z"
    }
   },
   "cell_type": "code",
   "source": "",
   "id": "7e3096a12559f9eb",
   "outputs": [],
   "execution_count": null
  }
 ],
 "metadata": {
  "kernelspec": {
   "display_name": "Python 3",
   "language": "python",
   "name": "python3"
  },
  "language_info": {
   "codemirror_mode": {
    "name": "ipython",
    "version": 2
   },
   "file_extension": ".py",
   "mimetype": "text/x-python",
   "name": "python",
   "nbconvert_exporter": "python",
   "pygments_lexer": "ipython2",
   "version": "2.7.6"
  }
 },
 "nbformat": 4,
 "nbformat_minor": 5
}
